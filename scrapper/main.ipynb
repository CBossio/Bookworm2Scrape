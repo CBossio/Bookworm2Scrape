{
 "cells": [
  {
   "cell_type": "markdown",
   "id": "239a3cdf",
   "metadata": {},
   "source": [
    "# Hi, welcome to the booworm application! 📖🐛"
   ]
  },
  {
   "cell_type": "markdown",
   "id": "341e7472",
   "metadata": {},
   "source": [
    "### This is an application created to webscrap the data from __https://books.toscrape.com__.\n",
    "### This application will extract, clean, transform and export the data and information from the webpage."
   ]
  },
  {
   "cell_type": "markdown",
   "id": "12f47370",
   "metadata": {},
   "source": [
    "#### First you should import the libraries that are gonna be used in this project"
   ]
  },
  {
   "cell_type": "code",
   "execution_count": null,
   "id": "99bcbfad",
   "metadata": {},
   "outputs": [],
   "source": [
    "import subprocess\n",
    "import os\n",
    "from scrapper.spiders.etl import library_cleanse, book_cleanse\n",
    "from scrapper.spiders.remove_files import remove_old"
   ]
  },
  {
   "cell_type": "markdown",
   "id": "22ff4b52",
   "metadata": {},
   "source": [
    "#### Data Extraction and Cleanse code!"
   ]
  },
  {
   "cell_type": "code",
   "execution_count": null,
   "id": "433b09fd",
   "metadata": {},
   "outputs": [],
   "source": [
    "#Set absolute path\n",
    "project_root = os.path.abspath(os.path.join(os.getcwd()))\n",
    "print(\"Running from:\", project_root)\n",
    "remove_old()"
   ]
  },
  {
   "cell_type": "code",
   "execution_count": null,
   "id": "67581fdc",
   "metadata": {},
   "outputs": [],
   "source": [
    "#Obtain all the categories and books\n",
    "subprocess.run(\n",
    "    [\"scrapy\", \"crawl\", \"library_data\", \"--loglevel=ERROR\"],\n",
    "    cwd=project_root,\n",
    "    capture_output=True,\n",
    "    text=True\n",
    ")\n",
    "\n",
    "library_cleanse()"
   ]
  },
  {
   "cell_type": "code",
   "execution_count": null,
   "id": "6e9dfe23",
   "metadata": {},
   "outputs": [
    {
     "name": "stdout",
     "output_type": "stream",
     "text": [
      "Running from: c:\\Users\\Chris\\Downloads\\enviroment_scraper\\venv\\Scrapper\\scrapper\n"
     ]
    }
   ],
   "source": [
    "#Inspect books 1-1\n",
    "subprocess.run(\n",
    "    [\"scrapy\", \"crawl\", \"book_data\", \"--loglevel=ERROR\"],\n",
    "    cwd=project_root,\n",
    "    capture_output=True,\n",
    "    text=True\n",
    ")\n",
    "\n",
    "book_cleanse()"
   ]
  },
  {
   "cell_type": "code",
   "execution_count": null,
   "id": "a83b5dcb",
   "metadata": {},
   "outputs": [],
   "source": []
  }
 ],
 "metadata": {
  "kernelspec": {
   "display_name": "venv",
   "language": "python",
   "name": "python3"
  },
  "language_info": {
   "codemirror_mode": {
    "name": "ipython",
    "version": 3
   },
   "file_extension": ".py",
   "mimetype": "text/x-python",
   "name": "python",
   "nbconvert_exporter": "python",
   "pygments_lexer": "ipython3",
   "version": "3.12.6"
  }
 },
 "nbformat": 4,
 "nbformat_minor": 5
}
