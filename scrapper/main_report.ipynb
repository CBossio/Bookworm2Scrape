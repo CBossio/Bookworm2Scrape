{
 "cells": [
  {
   "cell_type": "markdown",
   "id": "d76ec5fd",
   "metadata": {},
   "source": [
    "# Hi, welcome to the bookworm reporting application! 📖🐛"
   ]
  },
  {
   "cell_type": "markdown",
   "id": "a68bda53",
   "metadata": {},
   "source": [
    "### This is a notebook developed to create multiple reports from the obtained data"
   ]
  },
  {
   "cell_type": "markdown",
   "id": "a7d66da3",
   "metadata": {},
   "source": [
    "#### First you should import the libraries that are gonna be used in this project"
   ]
  },
  {
   "cell_type": "code",
   "execution_count": null,
   "id": "9903d7e3",
   "metadata": {},
   "outputs": [],
   "source": [
    "#Import libraries\n",
    "import os\n",
    "import matplotlib.pyplot as plt\n",
    "import pandas as pd"
   ]
  },
  {
   "cell_type": "markdown",
   "id": "98b4b36b",
   "metadata": {},
   "source": [
    "#### Reporting codes!"
   ]
  },
  {
   "cell_type": "code",
   "execution_count": null,
   "id": "9fb85688",
   "metadata": {},
   "outputs": [],
   "source": [
    "#Set absolute path and remove old files\n",
    "project_root = os.path.abspath(os.path.join(os.getcwd()))\n",
    "output_folder = os.path.join(project_root, f'reporting_output')\n",
    "print(\"Running from:\", project_root)\n",
    "df = pd.read_csv(os.path.join(project_root, f\"result.csv\"), index_col=None)"
   ]
  },
  {
   "cell_type": "markdown",
   "id": "ba3b28fe",
   "metadata": {},
   "source": [
    "#### Quantity of books per category"
   ]
  },
  {
   "cell_type": "code",
   "execution_count": null,
   "id": "aa9af54d",
   "metadata": {},
   "outputs": [],
   "source": [
    "report = df.groupby(\"Category\")[\"UPC\"].count().reset_index(name=\"Book_Count\").sort_values(\"Book_Count\", ascending=False)\n",
    "output_path = os.path.join(output_folder, \"books_per_category.xlsx\")\n",
    "print(report)\n",
    "report.to_excel(output_path, index=False)"
   ]
  },
  {
   "cell_type": "markdown",
   "id": "4233ca54",
   "metadata": {},
   "source": [
    "#### Best titles with less stock"
   ]
  },
  {
   "cell_type": "code",
   "execution_count": null,
   "id": "7eb47a99",
   "metadata": {},
   "outputs": [],
   "source": [
    "report = df[df[\"Stock_quantity\"] <= 3].sort_values(by=\"Rating\", ascending=False).head(10)\n",
    "report = report[['UPC','Category','Title','Price_Tax','Stock_quantity','Rating','URL']]\n",
    "output_path = os.path.join(output_folder, \"best_titles_with_less_stock.xlsx\")\n",
    "print(report.head())\n",
    "report.to_excel(output_path, index=False)"
   ]
  },
  {
   "cell_type": "markdown",
   "id": "8fa1fb32",
   "metadata": {},
   "source": [
    "#### Top 10 categories with less stock"
   ]
  },
  {
   "cell_type": "code",
   "execution_count": null,
   "id": "3d461691",
   "metadata": {},
   "outputs": [],
   "source": [
    "category_stats = df.groupby(\"Category\").agg({\n",
    "    \"Rating\": \"mean\",\n",
    "    \"Stock_quantity\": \"sum\"\n",
    "}).reset_index()\n",
    "\n",
    "report = category_stats.sort_values(by=[\"Rating\", \"Stock_quantity\"], ascending=[False, True]).head(10)\n",
    "output_path = os.path.join(output_folder, \"best_categories_with_less_stock.xlsx\")\n",
    "print(report)\n",
    "report.to_excel(output_path, index=False)"
   ]
  },
  {
   "cell_type": "markdown",
   "id": "82ff4340",
   "metadata": {},
   "source": [
    "#### Average price per category"
   ]
  },
  {
   "cell_type": "code",
   "execution_count": null,
   "id": "ec036606",
   "metadata": {},
   "outputs": [],
   "source": [
    "report = df.groupby(\"Category\")[\"Price_No_Tax\"].mean().reset_index(name=\"Average_Price_No_Tax\")\n",
    "output_path = os.path.join(output_folder, \"average_price_per_category.xlsx\")\n",
    "print(report)\n",
    "report.to_excel(output_path, index=False)"
   ]
  },
  {
   "cell_type": "markdown",
   "id": "191df59e",
   "metadata": {},
   "source": [
    "#### Top 10 expensive book"
   ]
  },
  {
   "cell_type": "code",
   "execution_count": null,
   "id": "d9cf52d1",
   "metadata": {},
   "outputs": [],
   "source": [
    "report = df[df[\"Rating\"] >= 4].sort_values(by=[\"Price_Tax\"], ascending=[False]).head(10)\n",
    "output_path = os.path.join(output_folder, \"best_expensive_books.xlsx\")\n",
    "print(report)\n",
    "report.to_excel(output_path, index=False)"
   ]
  },
  {
   "cell_type": "markdown",
   "id": "4b4be6fa",
   "metadata": {},
   "source": [
    "#### Top 10 cheaper books"
   ]
  },
  {
   "cell_type": "code",
   "execution_count": null,
   "id": "f37b5076",
   "metadata": {},
   "outputs": [],
   "source": [
    "report = df[df[\"Rating\"] >= 4].sort_values(by=[\"Price_Tax\"], ascending=[True]).head(10)\n",
    "output_path = os.path.join(output_folder, \"best_cheap_books.xlsx\")\n",
    "print(report)\n",
    "report.to_excel(output_path, index=False)"
   ]
  },
  {
   "cell_type": "markdown",
   "id": "03254a14",
   "metadata": {},
   "source": [
    "#### Distribution of rating - Pie chart"
   ]
  },
  {
   "cell_type": "code",
   "execution_count": null,
   "id": "f0ce2d0f",
   "metadata": {},
   "outputs": [],
   "source": [
    "\n",
    "rating_counts = df['Rating'].value_counts().sort_index()\n",
    "rating_percentages = rating_counts / rating_counts.sum() * 100\n",
    "fig, ax = plt.subplots(figsize=(6, 6))\n",
    "ax.pie(\n",
    "    rating_percentages,\n",
    "    labels=rating_percentages.index,\n",
    "    autopct='%1.1f%%',\n",
    "    startangle=90,\n",
    "    textprops={'fontsize': 12}\n",
    ")\n",
    "ax.set_title(\"Rating Distribution (%)\", fontsize=14)\n",
    "plt.tight_layout()\n",
    "output_path = os.path.join(output_folder, \"rating_pie_chart.png\")\n",
    "plt.savefig(output_path, dpi=300)\n",
    "plt.show()"
   ]
  },
  {
   "cell_type": "markdown",
   "id": "6b698246",
   "metadata": {},
   "source": [
    "#### Distribution of price - Pie chart"
   ]
  },
  {
   "cell_type": "code",
   "execution_count": null,
   "id": "59482a79",
   "metadata": {},
   "outputs": [],
   "source": [
    "bins = [0, 10, 20, 30, 40, float('inf')]\n",
    "labels = [\"< 10\", \"10-20\", \"20-30\", \"30-40\", \"> 50\"]\n",
    "\n",
    "df[\"Price_Range\"] = pd.cut(df[\"Price_Tax\"], bins=bins, labels=labels, right=False)\n",
    "\n",
    "price_counts = df[\"Price_Range\"].value_counts().sort_index()\n",
    "price_percentages = price_counts / price_counts.sum() * 100\n",
    "\n",
    "fig, ax = plt.subplots(figsize=(7, 7))\n",
    "ax.pie(\n",
    "    price_percentages,\n",
    "    labels=price_percentages.index,\n",
    "    autopct=\"%1.1f%%\",\n",
    "    startangle=140,\n",
    "    textprops={\"fontsize\": 12}\n",
    ")\n",
    "ax.set_title(\"Price Distribution by Range (with Tax)\", fontsize=14)\n",
    "plt.tight_layout()\n",
    "\n",
    "# Save image\n",
    "output_path = os.path.join(output_folder, \"price_range_pie_chart.png\")\n",
    "plt.savefig(output_path, dpi=300)\n",
    "\n",
    "plt.show()"
   ]
  }
 ],
 "metadata": {
  "kernelspec": {
   "display_name": "Python 3",
   "language": "python",
   "name": "python3"
  },
  "language_info": {
   "codemirror_mode": {
    "name": "ipython",
    "version": 3
   },
   "file_extension": ".py",
   "mimetype": "text/x-python",
   "name": "python",
   "nbconvert_exporter": "python",
   "pygments_lexer": "ipython3",
   "version": "3.12.6"
  }
 },
 "nbformat": 4,
 "nbformat_minor": 5
}
