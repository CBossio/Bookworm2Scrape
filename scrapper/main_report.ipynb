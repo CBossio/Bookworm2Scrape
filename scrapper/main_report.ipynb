{
 "cells": [
  {
   "cell_type": "markdown",
   "id": "d76ec5fd",
   "metadata": {},
   "source": [
    "# Hi, welcome to the bookworm reporting application! 📖🐛"
   ]
  },
  {
   "cell_type": "markdown",
   "id": "a68bda53",
   "metadata": {},
   "source": [
    "### This is a notebook developed to create multiple reports from the obtained data"
   ]
  },
  {
   "cell_type": "markdown",
   "id": "a7d66da3",
   "metadata": {},
   "source": [
    "#### First you should import the libraries that are gonna be used in this project"
   ]
  },
  {
   "cell_type": "code",
   "execution_count": 1,
   "id": "9903d7e3",
   "metadata": {},
   "outputs": [],
   "source": [
    "#Import libraries\n",
    "import os\n",
    "import pandas as pd"
   ]
  },
  {
   "cell_type": "markdown",
   "id": "98b4b36b",
   "metadata": {},
   "source": [
    "#### Reporting codes!"
   ]
  },
  {
   "cell_type": "code",
   "execution_count": null,
   "id": "9fb85688",
   "metadata": {},
   "outputs": [
    {
     "name": "stdout",
     "output_type": "stream",
     "text": [
      "Running from: c:\\Users\\Chris\\Downloads\\Scrappers\\scrapper\\scrapper\n"
     ]
    }
   ],
   "source": [
    "#Set absolute path and remove old files\n",
    "project_root = os.path.abspath(os.path.join(os.getcwd()))\n",
    "output_path = os.path.join(project_root, f'reporting_output')\n",
    "print(\"Running from:\", project_root)\n",
    "# Load your data\n",
    "df = pd.read_csv(os.path.join(project_root, f\"result.csv\"), index_col=None)"
   ]
  },
  {
   "cell_type": "code",
   "execution_count": null,
   "id": "cc885dc8",
   "metadata": {},
   "outputs": [
    {
     "name": "stdout",
     "output_type": "stream",
     "text": [
      "Index(['UPC', 'Category', 'Title', 'Currency', 'Price_Tax', 'Price_No_Tax',\n",
      "       'Tax', 'Stock_availability', 'Stock_quantity', 'URL'],\n",
      "      dtype='object')\n"
     ]
    }
   ],
   "source": [
    "report = df.groupby('Category')['UPC'].count().reset_index(name='Book_Count')\n",
    "output_path = os.path.join(output_folder, \"quantity_books_per_category.csv\")\n",
    "report.to_csv(output_path, index=False)"
   ]
  },
  {
   "cell_type": "code",
   "execution_count": null,
   "id": "e23f2a5d",
   "metadata": {},
   "outputs": [],
   "source": []
  }
 ],
 "metadata": {
  "kernelspec": {
   "display_name": "Python 3",
   "language": "python",
   "name": "python3"
  },
  "language_info": {
   "codemirror_mode": {
    "name": "ipython",
    "version": 3
   },
   "file_extension": ".py",
   "mimetype": "text/x-python",
   "name": "python",
   "nbconvert_exporter": "python",
   "pygments_lexer": "ipython3",
   "version": "3.12.6"
  }
 },
 "nbformat": 4,
 "nbformat_minor": 5
}
