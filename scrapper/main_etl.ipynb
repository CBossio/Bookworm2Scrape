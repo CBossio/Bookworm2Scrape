{
 "cells": [
  {
   "cell_type": "markdown",
   "id": "239a3cdf",
   "metadata": {},
   "source": [
    "# Hi, welcome to the bookworm ETL application! 📖🐛"
   ]
  },
  {
   "cell_type": "markdown",
   "id": "341e7472",
   "metadata": {},
   "source": [
    "### This is a notebook created to webscrap the data from __https://books.toscrape.com__.\n",
    "### This notebook will extract, clean, transform and export the data and information from the webpage."
   ]
  },
  {
   "cell_type": "markdown",
   "id": "12f47370",
   "metadata": {},
   "source": [
    "#### First you should import the libraries that are gonna be used in this project"
   ]
  },
  {
   "cell_type": "code",
   "execution_count": 2,
   "id": "99bcbfad",
   "metadata": {},
   "outputs": [],
   "source": [
    "#Import libraries\n",
    "import subprocess\n",
    "import os\n",
    "from scrapper.spiders.etl import library_cleanse, book_cleanse\n",
    "from scrapper.spiders.remove_files import remove_old"
   ]
  },
  {
   "cell_type": "markdown",
   "id": "22ff4b52",
   "metadata": {},
   "source": [
    "#### Data Extraction and Cleanse codes!"
   ]
  },
  {
   "cell_type": "code",
   "execution_count": null,
   "id": "433b09fd",
   "metadata": {},
   "outputs": [],
   "source": [
    "#Set absolute path and remove old files\n",
    "project_root = os.path.abspath(os.path.join(os.getcwd()))\n",
    "print(\"Running from:\", project_root)\n",
    "remove_old()"
   ]
  },
  {
   "cell_type": "code",
   "execution_count": 3,
   "id": "67581fdc",
   "metadata": {},
   "outputs": [],
   "source": [
    "#Obtain all the categories and books\n",
    "subprocess.run(\n",
    "    [\"scrapy\", \"crawl\", \"library_data\"],\n",
    "    cwd=project_root\n",
    ")\n",
    "\n",
    "library_cleanse()"
   ]
  },
  {
   "cell_type": "code",
   "execution_count": 4,
   "id": "6e9dfe23",
   "metadata": {},
   "outputs": [],
   "source": [
    "# #Inspect books 1 by 1\n",
    "# subprocess.run(\n",
    "#     [\"scrapy\", \"crawl\", \"book_data\", \"--loglevel=ERROR\"],\n",
    "#     cwd=project_root\n",
    "# )\n",
    "\n",
    "book_cleanse()"
   ]
  },
  {
   "cell_type": "markdown",
   "id": "bf2d85b2",
   "metadata": {},
   "source": [
    "### Thanks for reaching the end of the ETL, now you should have a file named result.csv in the base folder.\n",
    "### To get the reports, please refer to the main_report.ipynb file"
   ]
  }
 ],
 "metadata": {
  "kernelspec": {
   "display_name": "Python 3",
   "language": "python",
   "name": "python3"
  },
  "language_info": {
   "codemirror_mode": {
    "name": "ipython",
    "version": 3
   },
   "file_extension": ".py",
   "mimetype": "text/x-python",
   "name": "python",
   "nbconvert_exporter": "python",
   "pygments_lexer": "ipython3",
   "version": "3.12.6"
  }
 },
 "nbformat": 4,
 "nbformat_minor": 5
}
